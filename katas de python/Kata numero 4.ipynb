{
 "cells": [
  {
   "cell_type": "markdown",
   "metadata": {},
   "source": [
    "## Tranformar cadenas"
   ]
  },
  {
   "cell_type": "code",
   "execution_count": 20,
   "metadata": {},
   "outputs": [],
   "source": [
    "Text =\"\"\"Datos interesantes sobre la Luna. La Luna es el único satélite de la Tierra. Hay varios datos interesantes sobre la Luna y cómo afecta la vida aquí en la Tierra.\n",
    "En promedio, la Luna se aleja 4 cm de la Tierra cada año. Esta deriva anual no es lo suficientemente significativa como para causar efectos inmediatos en la Tierra. La temperatura diurna más alta de la Luna es de 127 C.\"\"\""
   ]
  },
  {
   "cell_type": "code",
   "execution_count": 21,
   "metadata": {},
   "outputs": [
    {
     "data": {
      "text/plain": [
       "['Datos interesantes sobre la Luna',\n",
       " ' La Luna es el único satélite de la Tierra',\n",
       " ' Hay varios datos interesantes sobre la Luna y cómo afecta la vida aquí en la Tierra',\n",
       " '\\nEn promedio, la Luna se aleja 4 cm de la Tierra cada año',\n",
       " ' Esta deriva anual no es lo suficientemente significativa como para causar efectos inmediatos en la Tierra',\n",
       " ' La temperatura diurna más alta de la Luna es de 127 C',\n",
       " '']"
      ]
     },
     "execution_count": 21,
     "metadata": {},
     "output_type": "execute_result"
    }
   ],
   "source": [
    "text_parts = Text.split ('.')\n",
    "text_parts"
   ]
  },
  {
   "cell_type": "code",
   "execution_count": 22,
   "metadata": {},
   "outputs": [],
   "source": [
    "key_words = [\"satellite\", \"tierra\", \"Luna\"]"
   ]
  },
  {
   "cell_type": "code",
   "execution_count": 23,
   "metadata": {},
   "outputs": [
    {
     "name": "stdout",
     "output_type": "stream",
     "text": [
      "Datos interesantes sobre la Luna\n",
      " La Luna es el único satélite de la Tierra\n",
      " Hay varios datos interesantes sobre la Luna y cómo afecta la vida aquí en la Tierra\n",
      "\n",
      "En promedio, la Luna se aleja 4 cm de la Tierra cada año\n",
      " La temperatura diurna más alta de la Luna es de 127 C\n"
     ]
    }
   ],
   "source": [
    "for sentence in text_parts:\n",
    "    for key_word in key_words:\n",
    "        if key_word in sentence:\n",
    "            print(sentence)\n",
    "            break"
   ]
  },
  {
   "cell_type": "code",
   "execution_count": 24,
   "metadata": {},
   "outputs": [
    {
     "name": "stdout",
     "output_type": "stream",
     "text": [
      "Datos interesantes sobre la Luna\n",
      " La Luna es el único satélite de la Tierra\n",
      " Hay varios datos interesantes sobre la Luna y cómo afecta la vida aquí en la Tierra\n",
      "\n",
      "En promedio, la Luna se aleja 4 cm de la Tierra cada año\n",
      " La temperatura diurna más alta de la Luna es de 127 Celsius\n"
     ]
    }
   ],
   "source": [
    "for sentence in text_parts:\n",
    "    for key_word in key_words:\n",
    "        if key_word in sentence:\n",
    "            print(sentence.replace(' C', ' Celsius'))\n",
    "            break"
   ]
  }
 ],
 "metadata": {
  "interpreter": {
   "hash": "32e2f4f7946a643c339ac7923b0c1c81990137ac470fcf2acb9d4d3cac435554"
  },
  "kernelspec": {
   "display_name": "Python 3.10.2 64-bit",
   "language": "python",
   "name": "python3"
  },
  "language_info": {
   "codemirror_mode": {
    "name": "ipython",
    "version": 3
   },
   "file_extension": ".py",
   "mimetype": "text/x-python",
   "name": "python",
   "nbconvert_exporter": "python",
   "pygments_lexer": "ipython3",
   "version": "3.10.2"
  },
  "orig_nbformat": 4
 },
 "nbformat": 4,
 "nbformat_minor": 2
}
