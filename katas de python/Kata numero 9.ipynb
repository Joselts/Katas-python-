{
 "cells": [
  {
   "cell_type": "code",
   "execution_count": 8,
   "metadata": {},
   "outputs": [],
   "source": [
    "def generate_report(Tanque_principal, Tanque_secundario, Tanque_hidrogeno):\n",
    "    total_average = (Tanque_principal + Tanque_secundario+ Tanque_hidrogeno) / 3\n",
    "    return f\"\"\"Reporte_combustible:\n",
    "    Total Average: {total_average}%\n",
    "    Tanque_princial: {Tanque_principal}%\n",
    "    Tanque_secunadario: {Tanque_secundario}%\n",
    "    Tanque_hidrogeno: {Tanque_hidrogeno}% \n",
    "    \"\"\""
   ]
  },
  {
   "cell_type": "code",
   "execution_count": 9,
   "metadata": {},
   "outputs": [
    {
     "name": "stdout",
     "output_type": "stream",
     "text": [
      "Reporte_combustible:\n",
      "    Total Average: 78.33333333333333%\n",
      "    Tanque_princial: 80%\n",
      "    Tanque_secunadario: 70%\n",
      "    Tanque_hidrogeno: 85% \n",
      "    \n"
     ]
    }
   ],
   "source": [
    "print(generate_report(80, 70, 85))"
   ]
  },
  {
   "cell_type": "code",
   "execution_count": 10,
   "metadata": {},
   "outputs": [],
   "source": [
    "def average(values):\n",
    "    total = sum(values)\n",
    "    number_of_items = len(values)\n",
    "    return total / number_of_items"
   ]
  },
  {
   "cell_type": "code",
   "execution_count": 11,
   "metadata": {},
   "outputs": [
    {
     "data": {
      "text/plain": [
       "82.0"
      ]
     },
     "execution_count": 11,
     "metadata": {},
     "output_type": "execute_result"
    }
   ],
   "source": [
    "average([80, 85, 81])"
   ]
  },
  {
   "cell_type": "code",
   "execution_count": 19,
   "metadata": {},
   "outputs": [],
   "source": [
    "def generate_report(Tanque_principal, Tanque_secundario, Tanque_hidrogeno):\n",
    "    return f\"\"\"Reporte_combustible:\n",
    "    Total Average: {average([Tanque_principal, Tanque_secundario, Tanque_hidrogeno])}%\n",
    "    Tanque_princial: {Tanque_principal}%\n",
    "    Tanque_secunadario: {Tanque_secundario}%\n",
    "    Tanque_hidrogeno: {Tanque_hidrogeno}% \n",
    "    \"\"\"\n",
    "    "
   ]
  },
  {
   "cell_type": "code",
   "execution_count": 20,
   "metadata": {},
   "outputs": [
    {
     "name": "stdout",
     "output_type": "stream",
     "text": [
      "Reporte_combustible:\n",
      "    Total Average: 78.0%\n",
      "    Tanque_princial: 88%\n",
      "    Tanque_secunadario: 76%\n",
      "    Tanque_hidrogeno: 70% \n",
      "    \n"
     ]
    }
   ],
   "source": [
    "print(generate_report(88, 76, 70))"
   ]
  },
  {
   "cell_type": "markdown",
   "metadata": {},
   "source": [
    "## Informe de la nave"
   ]
  },
  {
   "cell_type": "code",
   "execution_count": 26,
   "metadata": {},
   "outputs": [
    {
     "name": "stdout",
     "output_type": "stream",
     "text": [
      "\n",
      "    Mission to Moon\n",
      "    Tiempo total de viaje: 65 Minutos\n",
      "    Total de combustible: 500000 Galones\n",
      "    \n"
     ]
    }
   ],
   "source": [
    "def mission_report(Triempo_de_lanzamiento, Tiempo_vuelo, Destino, Tanque_secundario, Tanque_principal):\n",
    "    return f\"\"\"\n",
    "    Mission to {Destino}\n",
    "    Tiempo total de viaje: {Triempo_de_lanzamiento + Tiempo_vuelo} Minutos\n",
    "    Total de combustible: {Tanque_secundario + Tanque_principal} Galones\n",
    "    \"\"\"\n",
    "\n",
    "print(mission_report(14, 51, \"Moon\", 200000, 300000))"
   ]
  },
  {
   "cell_type": "code",
   "execution_count": 43,
   "metadata": {},
   "outputs": [
    {
     "name": "stdout",
     "output_type": "stream",
     "text": [
      "\n",
      "    Mission to Moon\n",
      "    Tiempo total de viaje: 107 Minutos\n",
      "    Total de combustible: 500000\n",
      "    \n"
     ]
    }
   ],
   "source": [
    "def mission_report(Destino, *Minutos, **Reserva_cumbustible):\n",
    "    return f\"\"\"\n",
    "    Mission to {Destino}\n",
    "    Tiempo total de viaje: {sum(Minutos)} Minutos\n",
    "    Total de combustible: {sum(Reserva_cumbustible.values())}\n",
    "    \"\"\"\n",
    "\n",
    "print(mission_report(\"Moon\", 11, 18, 78, main=300000, external=200000))"
   ]
  },
  {
   "cell_type": "code",
   "execution_count": 56,
   "metadata": {},
   "outputs": [
    {
     "name": "stdout",
     "output_type": "stream",
     "text": [
      "\n",
      "    Mission to Moon\n",
      "    Tiempo total de viaje: 74 minutos\n",
      "    Total de combustiblet: 500000\n",
      "    main tank --> 300000 gallons left\n",
      "external tank --> 200000 gallons left\n",
      "\n"
     ]
    }
   ],
   "source": [
    "def mission_report(Destino, *minutos, **Reserva_combustible):\n",
    "    main_report = f\"\"\"\n",
    "    Mission to {Destino}\n",
    "    Tiempo total de viaje: {sum(minutos)} minutos\n",
    "    Total de combustiblet: {sum(Reserva_combustible.values())}\n",
    "    \"\"\"\n",
    "    for tank_name, gallons in Reserva_combustible.items():\n",
    "        main_report += f\"{tank_name} tank --> {gallons} gallons left\\n\"\n",
    "    return main_report\n",
    "\n",
    "print(mission_report(\"Moon\", 8, 11, 55, main=300000, external=200000))\n"
   ]
  },
  {
   "cell_type": "code",
   "execution_count": null,
   "metadata": {},
   "outputs": [],
   "source": []
  }
 ],
 "metadata": {
  "interpreter": {
   "hash": "32e2f4f7946a643c339ac7923b0c1c81990137ac470fcf2acb9d4d3cac435554"
  },
  "kernelspec": {
   "display_name": "Python 3.10.2 64-bit",
   "language": "python",
   "name": "python3"
  },
  "language_info": {
   "codemirror_mode": {
    "name": "ipython",
    "version": 3
   },
   "file_extension": ".py",
   "mimetype": "text/x-python",
   "name": "python",
   "nbconvert_exporter": "python",
   "pygments_lexer": "ipython3",
   "version": "3.10.2"
  },
  "orig_nbformat": 4
 },
 "nbformat": 4,
 "nbformat_minor": 2
}
